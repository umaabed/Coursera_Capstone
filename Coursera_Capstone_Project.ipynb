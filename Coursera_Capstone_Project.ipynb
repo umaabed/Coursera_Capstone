{
    "nbformat_minor": 1, 
    "cells": [
        {
            "source": "# Capstone Project - The Battle of the Neighborhoods (Week 2)\n### Applied Data Science Capstone by IBM/Coursera", 
            "cell_type": "markdown", 
            "metadata": {
                "collapsed": true
            }
        }, 
        {
            "source": "## Table of contents\n* [Introduction: Business Problem](#introduction)\n* [Data](#data)\n* [Methodology](#methodology)\n* [Analysis](#analysis)\n* [Results and Discussion](#results)\n* [Conclusion](#conclusion)", 
            "cell_type": "markdown", 
            "metadata": {}
        }, 
        {
            "source": "## Introduction: Business Problem <a name=\"introduction\"></a>", 
            "cell_type": "markdown", 
            "metadata": {}
        }, 
        {
            "source": "### City crime is one of the main concerns for public and decision makers.\nToday's life in big cities with high population became major concern. The safety of community creates challenges for authorities and police departments. \nCrimes in big cities are different with diverse rates and might happen in any time, which in its turn need planning and resources to understand its trend and where and when it is necessary to allocate resources in certain area. \nFor proper planning many questions seek for answers such as:\n-\tWhat are the major crimes in the city?\n-\tHow the crime types distributed across the city?\n-\tWhere are such crimes concentrated in each city's districts?\n-\tWith limited budget, which districts should get more focus and financial support to improve its capabilities?\n-\tWhat are the main geo characterizes that repeated for a specific crime, which can be used as an indicator for a proactive approach to improve the policy service quality in other areas or cities?\n\nData science approach and techniques provide the means that can help in meeting such challenges and provide answers to such questions. \n", 
            "cell_type": "markdown", 
            "metadata": {}
        }, 
        {
            "source": "## Data <a name=\"data\"></a>", 
            "cell_type": "markdown", 
            "metadata": {}
        }, 
        {
            "source": "###### This project relies on different information resources..\n-\tChicago crime incidents dataset from 2001 to present can be found Chicago Data Portal. , which has details information on the daily cases, such as where it happened, when, case coordinates (latitude and longitude), crime type, etc. (Sample of  data is extracted below.)\n\n-\tFoursquare, which is geo information platform that powers leading business solutions and consumer products through a deep understanding of location. Foursquare Explore API will be used to get nearby venues based on case coordinates.\n\n", 
            "cell_type": "markdown", 
            "metadata": {}
        }, 
        {
            "execution_count": 1, 
            "cell_type": "code", 
            "metadata": {}, 
            "outputs": [], 
            "source": "# Import the used libraries\nimport numpy as np # library to handle data in a vectorized manner\nimport pandas as pd\npd.set_option('display.max_columns', 500)\nfrom pandas.io.json import json_normalize # tranform JSON file into a pandas dataframe\nimport requests\nfrom bs4 import BeautifulSoup\nimport json # library to handle JSON files\n\n# Matplotlib and associated plotting modules\nimport matplotlib.cm as cm\nimport matplotlib.colors as colors\nimport matplotlib.pyplot as plt\n%matplotlib inline\n\n# import k-means from clustering stage\nfrom sklearn.cluster import KMeans\nfrom geopy.geocoders import Nominatim\n\n#!conda install -c conda-forge folium=0.5.0 --yes\nimport folium # map rendering library"
        }, 
        {
            "execution_count": 2, 
            "cell_type": "code", 
            "metadata": {}, 
            "outputs": [
                {
                    "execution_count": 2, 
                    "metadata": {}, 
                    "data": {
                        "text/html": "<div>\n<style scoped>\n    .dataframe tbody tr th:only-of-type {\n        vertical-align: middle;\n    }\n\n    .dataframe tbody tr th {\n        vertical-align: top;\n    }\n\n    .dataframe thead th {\n        text-align: right;\n    }\n</style>\n<table border=\"1\" class=\"dataframe\">\n  <thead>\n    <tr style=\"text-align: right;\">\n      <th></th>\n      <th>ID</th>\n      <th>Case Number</th>\n      <th>Date</th>\n      <th>Block</th>\n      <th>IUCR</th>\n      <th>Primary Type</th>\n      <th>Description</th>\n      <th>Location Description</th>\n      <th>Arrest</th>\n      <th>Domestic</th>\n      <th>Beat</th>\n      <th>District</th>\n      <th>Ward</th>\n      <th>Community Area</th>\n      <th>FBI Code</th>\n      <th>X Coordinate</th>\n      <th>Y Coordinate</th>\n      <th>Year</th>\n      <th>Updated On</th>\n      <th>Latitude</th>\n      <th>Longitude</th>\n      <th>Location</th>\n      <th>Historical Wards 2003-2015</th>\n      <th>Zip Codes</th>\n      <th>Community Areas</th>\n      <th>Census Tracts</th>\n      <th>Wards</th>\n      <th>Boundaries - ZIP Codes</th>\n      <th>Police Districts</th>\n      <th>Police Beats</th>\n    </tr>\n  </thead>\n  <tbody>\n    <tr>\n      <th>0</th>\n      <td>11668274</td>\n      <td>JC240043</td>\n      <td>04/26/2019 11:58:00 PM</td>\n      <td>008XX N MAY ST</td>\n      <td>0620</td>\n      <td>BURGLARY</td>\n      <td>UNLAWFUL ENTRY</td>\n      <td>APARTMENT</td>\n      <td>False</td>\n      <td>False</td>\n      <td>1213</td>\n      <td>12.0</td>\n      <td>27.0</td>\n      <td>24.0</td>\n      <td>05</td>\n      <td>1168861.0</td>\n      <td>1905677.0</td>\n      <td>2019</td>\n      <td>05/03/2019 04:14:46 PM</td>\n      <td>41.896700</td>\n      <td>-87.655246</td>\n      <td>(41.896700196, -87.655246179)</td>\n      <td>41.0</td>\n      <td>22620.0</td>\n      <td>25.0</td>\n      <td>109.0</td>\n      <td>46.0</td>\n      <td>49.0</td>\n      <td>15.0</td>\n      <td>60.0</td>\n    </tr>\n    <tr>\n      <th>1</th>\n      <td>11668131</td>\n      <td>JC240018</td>\n      <td>04/26/2019 11:58:00 PM</td>\n      <td>017XX N CENTRAL AVE</td>\n      <td>1150</td>\n      <td>DECEPTIVE PRACTICE</td>\n      <td>CREDIT CARD FRAUD</td>\n      <td>GAS STATION</td>\n      <td>False</td>\n      <td>False</td>\n      <td>2531</td>\n      <td>25.0</td>\n      <td>29.0</td>\n      <td>25.0</td>\n      <td>11</td>\n      <td>1138768.0</td>\n      <td>1911350.0</td>\n      <td>2019</td>\n      <td>05/03/2019 04:14:46 PM</td>\n      <td>41.912867</td>\n      <td>-87.765636</td>\n      <td>(41.912867052, -87.765635915)</td>\n      <td>52.0</td>\n      <td>22615.0</td>\n      <td>26.0</td>\n      <td>597.0</td>\n      <td>7.0</td>\n      <td>2.0</td>\n      <td>6.0</td>\n      <td>154.0</td>\n    </tr>\n    <tr>\n      <th>2</th>\n      <td>11668155</td>\n      <td>JC240031</td>\n      <td>04/26/2019 11:56:00 PM</td>\n      <td>046XX N MELVINA AVE</td>\n      <td>2093</td>\n      <td>NARCOTICS</td>\n      <td>FOUND SUSPECT NARCOTICS</td>\n      <td>PARK PROPERTY</td>\n      <td>True</td>\n      <td>False</td>\n      <td>1622</td>\n      <td>16.0</td>\n      <td>38.0</td>\n      <td>15.0</td>\n      <td>18</td>\n      <td>1134198.0</td>\n      <td>1930660.0</td>\n      <td>2019</td>\n      <td>05/03/2019 04:14:46 PM</td>\n      <td>41.965938</td>\n      <td>-87.781969</td>\n      <td>(41.965937596, -87.781969004)</td>\n      <td>25.0</td>\n      <td>21869.0</td>\n      <td>15.0</td>\n      <td>95.0</td>\n      <td>19.0</td>\n      <td>48.0</td>\n      <td>12.0</td>\n      <td>43.0</td>\n    </tr>\n    <tr>\n      <th>3</th>\n      <td>11668197</td>\n      <td>JC240026</td>\n      <td>04/26/2019 11:51:00 PM</td>\n      <td>004XX W 83RD ST</td>\n      <td>143A</td>\n      <td>WEAPONS VIOLATION</td>\n      <td>UNLAWFUL POSS OF HANDGUN</td>\n      <td>STREET</td>\n      <td>True</td>\n      <td>False</td>\n      <td>622</td>\n      <td>6.0</td>\n      <td>21.0</td>\n      <td>71.0</td>\n      <td>15</td>\n      <td>1174909.0</td>\n      <td>1849960.0</td>\n      <td>2019</td>\n      <td>05/03/2019 04:14:46 PM</td>\n      <td>41.743674</td>\n      <td>-87.634697</td>\n      <td>(41.743674436, -87.634696986)</td>\n      <td>18.0</td>\n      <td>21554.0</td>\n      <td>40.0</td>\n      <td>1.0</td>\n      <td>13.0</td>\n      <td>59.0</td>\n      <td>20.0</td>\n      <td>236.0</td>\n    </tr>\n    <tr>\n      <th>4</th>\n      <td>11668158</td>\n      <td>JC239985</td>\n      <td>04/26/2019 11:49:00 PM</td>\n      <td>049XX W JACKSON BLVD</td>\n      <td>0486</td>\n      <td>BATTERY</td>\n      <td>DOMESTIC BATTERY SIMPLE</td>\n      <td>APARTMENT</td>\n      <td>False</td>\n      <td>True</td>\n      <td>1533</td>\n      <td>15.0</td>\n      <td>28.0</td>\n      <td>25.0</td>\n      <td>08B</td>\n      <td>1143691.0</td>\n      <td>1898221.0</td>\n      <td>2019</td>\n      <td>05/03/2019 04:14:46 PM</td>\n      <td>41.876749</td>\n      <td>-87.747879</td>\n      <td>(41.876748723, -87.747878888)</td>\n      <td>36.0</td>\n      <td>22216.0</td>\n      <td>26.0</td>\n      <td>69.0</td>\n      <td>7.0</td>\n      <td>32.0</td>\n      <td>25.0</td>\n      <td>137.0</td>\n    </tr>\n  </tbody>\n</table>\n</div>", 
                        "text/plain": "         ID Case Number                    Date                 Block  IUCR  \\\n0  11668274    JC240043  04/26/2019 11:58:00 PM        008XX N MAY ST  0620   \n1  11668131    JC240018  04/26/2019 11:58:00 PM   017XX N CENTRAL AVE  1150   \n2  11668155    JC240031  04/26/2019 11:56:00 PM   046XX N MELVINA AVE  2093   \n3  11668197    JC240026  04/26/2019 11:51:00 PM       004XX W 83RD ST  143A   \n4  11668158    JC239985  04/26/2019 11:49:00 PM  049XX W JACKSON BLVD  0486   \n\n         Primary Type               Description Location Description  Arrest  \\\n0            BURGLARY            UNLAWFUL ENTRY            APARTMENT   False   \n1  DECEPTIVE PRACTICE         CREDIT CARD FRAUD          GAS STATION   False   \n2           NARCOTICS   FOUND SUSPECT NARCOTICS        PARK PROPERTY    True   \n3   WEAPONS VIOLATION  UNLAWFUL POSS OF HANDGUN               STREET    True   \n4             BATTERY   DOMESTIC BATTERY SIMPLE            APARTMENT   False   \n\n   Domestic  Beat  District  Ward  Community Area FBI Code  X Coordinate  \\\n0     False  1213      12.0  27.0            24.0       05     1168861.0   \n1     False  2531      25.0  29.0            25.0       11     1138768.0   \n2     False  1622      16.0  38.0            15.0       18     1134198.0   \n3     False   622       6.0  21.0            71.0       15     1174909.0   \n4      True  1533      15.0  28.0            25.0      08B     1143691.0   \n\n   Y Coordinate  Year              Updated On   Latitude  Longitude  \\\n0     1905677.0  2019  05/03/2019 04:14:46 PM  41.896700 -87.655246   \n1     1911350.0  2019  05/03/2019 04:14:46 PM  41.912867 -87.765636   \n2     1930660.0  2019  05/03/2019 04:14:46 PM  41.965938 -87.781969   \n3     1849960.0  2019  05/03/2019 04:14:46 PM  41.743674 -87.634697   \n4     1898221.0  2019  05/03/2019 04:14:46 PM  41.876749 -87.747879   \n\n                        Location  Historical Wards 2003-2015  Zip Codes  \\\n0  (41.896700196, -87.655246179)                        41.0    22620.0   \n1  (41.912867052, -87.765635915)                        52.0    22615.0   \n2  (41.965937596, -87.781969004)                        25.0    21869.0   \n3  (41.743674436, -87.634696986)                        18.0    21554.0   \n4  (41.876748723, -87.747878888)                        36.0    22216.0   \n\n   Community Areas  Census Tracts  Wards  Boundaries - ZIP Codes  \\\n0             25.0          109.0   46.0                    49.0   \n1             26.0          597.0    7.0                     2.0   \n2             15.0           95.0   19.0                    48.0   \n3             40.0            1.0   13.0                    59.0   \n4             26.0           69.0    7.0                    32.0   \n\n   Police Districts  Police Beats  \n0              15.0          60.0  \n1               6.0         154.0  \n2              12.0          43.0  \n3              20.0         236.0  \n4              25.0         137.0  "
                    }, 
                    "output_type": "execute_result"
                }
            ], 
            "source": "# The code was removed by Watson Studio for sharing."
        }, 
        {
            "source": "Let's find out how many entries there are in our dataset.", 
            "cell_type": "markdown", 
            "metadata": {}
        }, 
        {
            "execution_count": null, 
            "cell_type": "code", 
            "metadata": {}, 
            "outputs": [], 
            "source": "#print(df_data_1.shape)\nss = df_data_1\nss.sort_values(by=['Case Number'], inplace=True)\nss = ss['Case Number'].unique()\n#print (ss.shape)\n# Select duplicate rows except first occurrence based on all columns\nduplicateRowsDF = df_data_1[df_data_1.duplicated()]\n \nprint(\"Duplicate Rows except first occurrence based on all columns are :\")\nprint(duplicateRowsDF)"
        }, 
        {
            "source": "### Data Cleaning and preprocessing", 
            "cell_type": "markdown", 
            "metadata": {}
        }, 
        {
            "execution_count": null, 
            "cell_type": "code", 
            "metadata": {}, 
            "outputs": [], 
            "source": "# will start by removing the na values\ndf_data_1.columns\ndf_data = df_data_1 [['Case Number', 'Date', 'Block', 'IUCR', 'Primary Type',\n       'Description', 'Arrest', 'Community Area', 'Year',  'Latitude', 'Longitude',\n       'Zip Codes','Community Areas', 'Census Tracts', 'Wards', 'Boundaries - ZIP Codes',\n       'Police Districts']]\n\n#Drop rows with nan @ Latitude \tLongitude\ndf_data = df_data[np.isfinite(df_data['Latitude'])]\n\n# Year 2109 data not complete then will be droped for time being\ndf_data = df_data[df_data.Year != 2019]\n\nprint(df_data.shape)\n#df_data\n\n"
        }, 
        {
            "execution_count": null, 
            "cell_type": "code", 
            "metadata": {}, 
            "outputs": [], 
            "source": "#df_year_crime = df_data[['Year', 'Case Number']].groupby(['Year']).count()\n#df_year_crime = df_year_crime.reset_index()\n#df_year_crime"
        }, 
        {
            "execution_count": null, 
            "cell_type": "code", 
            "metadata": {}, 
            "outputs": [], 
            "source": "#df_year_crime.plot(kind='line',x='Year',y='Case Number', color='red')\n#plt.show()"
        }, 
        {
            "execution_count": 3, 
            "cell_type": "code", 
            "metadata": {}, 
            "outputs": [
                {
                    "ename": "NameError", 
                    "evalue": "name 'df_data' is not defined", 
                    "traceback": [
                        "\u001b[0;31m---------------------------------------------------------------------------\u001b[0m", 
                        "\u001b[0;31mNameError\u001b[0m                                 Traceback (most recent call last)", 
                        "\u001b[0;32m<ipython-input-3-a28a0eebc14f>\u001b[0m in \u001b[0;36m<module>\u001b[0;34m()\u001b[0m\n\u001b[1;32m      1\u001b[0m \u001b[0;31m#df_year_type = df_data[['Year', 'Primary Type','Case Number']].groupby(['Year','Primary Type']).count()\u001b[0m\u001b[0;34m\u001b[0m\u001b[0;34m\u001b[0m\u001b[0m\n\u001b[0;32m----> 2\u001b[0;31m \u001b[0mdf_year_type\u001b[0m \u001b[0;34m=\u001b[0m \u001b[0mdf_data\u001b[0m\u001b[0;34m[\u001b[0m\u001b[0;34m[\u001b[0m\u001b[0;34m'Year'\u001b[0m\u001b[0;34m,\u001b[0m \u001b[0;34m'Primary Type'\u001b[0m\u001b[0;34m,\u001b[0m\u001b[0;34m'Case Number'\u001b[0m\u001b[0;34m]\u001b[0m\u001b[0;34m]\u001b[0m\u001b[0;34m\u001b[0m\u001b[0m\n\u001b[0m\u001b[1;32m      3\u001b[0m \u001b[0;31m#f_year_type = df_year_type.groupby(['Year','Primary Type']).count()\u001b[0m\u001b[0;34m\u001b[0m\u001b[0;34m\u001b[0m\u001b[0m\n\u001b[1;32m      4\u001b[0m \u001b[0mdf_year_type\u001b[0m \u001b[0;34m=\u001b[0m \u001b[0mdf_year_type\u001b[0m\u001b[0;34m.\u001b[0m\u001b[0mgroupby\u001b[0m\u001b[0;34m(\u001b[0m\u001b[0;34m[\u001b[0m\u001b[0;34m'Year'\u001b[0m\u001b[0;34m,\u001b[0m\u001b[0;34m'Primary Type'\u001b[0m\u001b[0;34m]\u001b[0m\u001b[0;34m)\u001b[0m\u001b[0;34m.\u001b[0m\u001b[0msize\u001b[0m\u001b[0;34m(\u001b[0m\u001b[0;34m)\u001b[0m\u001b[0;34m.\u001b[0m\u001b[0mrename\u001b[0m\u001b[0;34m(\u001b[0m\u001b[0;34m'count'\u001b[0m\u001b[0;34m)\u001b[0m\u001b[0;34m.\u001b[0m\u001b[0mreset_index\u001b[0m\u001b[0;34m(\u001b[0m\u001b[0;34m)\u001b[0m\u001b[0;34m\u001b[0m\u001b[0m\n\u001b[1;32m      5\u001b[0m \u001b[0;31m#df_year_type = df_year_type.reset_index(name='Count')\u001b[0m\u001b[0;34m\u001b[0m\u001b[0;34m\u001b[0m\u001b[0m\n", 
                        "\u001b[0;31mNameError\u001b[0m: name 'df_data' is not defined"
                    ], 
                    "output_type": "error"
                }
            ], 
            "source": "#df_year_type = df_data[['Year', 'Primary Type','Case Number']].groupby(['Year','Primary Type']).count()\ndf_year_type = df_data[['Year', 'Primary Type','Case Number']]\n#f_year_type = df_year_type.groupby(['Year','Primary Type']).count()\ndf_year_type = df_year_type.groupby(['Year','Primary Type']).size().rename('count').reset_index()\n#df_year_type = df_year_type.reset_index(name='Count')\ndf_year_type\n\nss= df_year_type[df_year_type.Year == 2001] \n#ss= ss[['Year','Primary Type']]\n#ss1= ss.drop(ss.loc[ss['Primary Type']!='ARSON'].index, inplace=True)\nss.shape\ndf_year_type.shape"
        }, 
        {
            "execution_count": 42, 
            "cell_type": "code", 
            "metadata": {}, 
            "outputs": [
                {
                    "execution_count": 42, 
                    "metadata": {}, 
                    "data": {
                        "text/html": "<div>\n<style scoped>\n    .dataframe tbody tr th:only-of-type {\n        vertical-align: middle;\n    }\n\n    .dataframe tbody tr th {\n        vertical-align: top;\n    }\n\n    .dataframe thead th {\n        text-align: right;\n    }\n</style>\n<table border=\"1\" class=\"dataframe\">\n  <thead>\n    <tr style=\"text-align: right;\">\n      <th></th>\n      <th>ARSON</th>\n      <th>ASSAULT</th>\n      <th>BATTERY</th>\n      <th>BURGLARY</th>\n      <th>CONCEALED CARRY LICENSE VIOLATION</th>\n      <th>CRIM SEXUAL ASSAULT</th>\n      <th>CRIMINAL DAMAGE</th>\n      <th>CRIMINAL TRESPASS</th>\n      <th>DECEPTIVE PRACTICE</th>\n      <th>DOMESTIC VIOLENCE</th>\n      <th>GAMBLING</th>\n      <th>HOMICIDE</th>\n      <th>HUMAN TRAFFICKING</th>\n      <th>INTERFERENCE WITH PUBLIC OFFICER</th>\n      <th>INTIMIDATION</th>\n      <th>KIDNAPPING</th>\n      <th>LIQUOR LAW VIOLATION</th>\n      <th>MOTOR VEHICLE THEFT</th>\n      <th>NARCOTICS</th>\n      <th>NON - CRIMINAL</th>\n      <th>NON-CRIMINAL</th>\n      <th>NON-CRIMINAL (SUBJECT SPECIFIED)</th>\n      <th>OBSCENITY</th>\n      <th>OFFENSE INVOLVING CHILDREN</th>\n      <th>OTHER NARCOTIC VIOLATION</th>\n      <th>OTHER OFFENSE</th>\n      <th>PROSTITUTION</th>\n      <th>PUBLIC INDECENCY</th>\n      <th>PUBLIC PEACE VIOLATION</th>\n      <th>RITUALISM</th>\n      <th>ROBBERY</th>\n      <th>SEX OFFENSE</th>\n      <th>STALKING</th>\n      <th>THEFT</th>\n      <th>WEAPONS VIOLATION</th>\n    </tr>\n    <tr>\n      <th>Year</th>\n      <th></th>\n      <th></th>\n      <th></th>\n      <th></th>\n      <th></th>\n      <th></th>\n      <th></th>\n      <th></th>\n      <th></th>\n      <th></th>\n      <th></th>\n      <th></th>\n      <th></th>\n      <th></th>\n      <th></th>\n      <th></th>\n      <th></th>\n      <th></th>\n      <th></th>\n      <th></th>\n      <th></th>\n      <th></th>\n      <th></th>\n      <th></th>\n      <th></th>\n      <th></th>\n      <th></th>\n      <th></th>\n      <th></th>\n      <th></th>\n      <th></th>\n      <th></th>\n      <th></th>\n      <th></th>\n      <th></th>\n    </tr>\n  </thead>\n  <tbody>\n    <tr>\n      <th>2001</th>\n      <td>30</td>\n      <td>30</td>\n      <td>30</td>\n      <td>30</td>\n      <td>30</td>\n      <td>30</td>\n      <td>30</td>\n      <td>30</td>\n      <td>30</td>\n      <td>30</td>\n      <td>30</td>\n      <td>30</td>\n      <td>30</td>\n      <td>30</td>\n      <td>30</td>\n      <td>30</td>\n      <td>30</td>\n      <td>30</td>\n      <td>30</td>\n      <td>30</td>\n      <td>30</td>\n      <td>30</td>\n      <td>30</td>\n      <td>30</td>\n      <td>30</td>\n      <td>30</td>\n      <td>30</td>\n      <td>30</td>\n      <td>30</td>\n      <td>30</td>\n      <td>30</td>\n      <td>30</td>\n      <td>30</td>\n      <td>30</td>\n      <td>30</td>\n    </tr>\n    <tr>\n      <th>2002</th>\n      <td>29</td>\n      <td>29</td>\n      <td>29</td>\n      <td>29</td>\n      <td>29</td>\n      <td>29</td>\n      <td>29</td>\n      <td>29</td>\n      <td>29</td>\n      <td>29</td>\n      <td>29</td>\n      <td>29</td>\n      <td>29</td>\n      <td>29</td>\n      <td>29</td>\n      <td>29</td>\n      <td>29</td>\n      <td>29</td>\n      <td>29</td>\n      <td>29</td>\n      <td>29</td>\n      <td>29</td>\n      <td>29</td>\n      <td>29</td>\n      <td>29</td>\n      <td>29</td>\n      <td>29</td>\n      <td>29</td>\n      <td>29</td>\n      <td>29</td>\n      <td>29</td>\n      <td>29</td>\n      <td>29</td>\n      <td>29</td>\n      <td>29</td>\n    </tr>\n    <tr>\n      <th>2003</th>\n      <td>29</td>\n      <td>29</td>\n      <td>29</td>\n      <td>29</td>\n      <td>29</td>\n      <td>29</td>\n      <td>29</td>\n      <td>29</td>\n      <td>29</td>\n      <td>29</td>\n      <td>29</td>\n      <td>29</td>\n      <td>29</td>\n      <td>29</td>\n      <td>29</td>\n      <td>29</td>\n      <td>29</td>\n      <td>29</td>\n      <td>29</td>\n      <td>29</td>\n      <td>29</td>\n      <td>29</td>\n      <td>29</td>\n      <td>29</td>\n      <td>29</td>\n      <td>29</td>\n      <td>29</td>\n      <td>29</td>\n      <td>29</td>\n      <td>29</td>\n      <td>29</td>\n      <td>29</td>\n      <td>29</td>\n      <td>29</td>\n      <td>29</td>\n    </tr>\n    <tr>\n      <th>2004</th>\n      <td>29</td>\n      <td>29</td>\n      <td>29</td>\n      <td>29</td>\n      <td>29</td>\n      <td>29</td>\n      <td>29</td>\n      <td>29</td>\n      <td>29</td>\n      <td>29</td>\n      <td>29</td>\n      <td>29</td>\n      <td>29</td>\n      <td>29</td>\n      <td>29</td>\n      <td>29</td>\n      <td>29</td>\n      <td>29</td>\n      <td>29</td>\n      <td>29</td>\n      <td>29</td>\n      <td>29</td>\n      <td>29</td>\n      <td>29</td>\n      <td>29</td>\n      <td>29</td>\n      <td>29</td>\n      <td>29</td>\n      <td>29</td>\n      <td>29</td>\n      <td>29</td>\n      <td>29</td>\n      <td>29</td>\n      <td>29</td>\n      <td>29</td>\n    </tr>\n    <tr>\n      <th>2005</th>\n      <td>29</td>\n      <td>29</td>\n      <td>29</td>\n      <td>29</td>\n      <td>29</td>\n      <td>29</td>\n      <td>29</td>\n      <td>29</td>\n      <td>29</td>\n      <td>29</td>\n      <td>29</td>\n      <td>29</td>\n      <td>29</td>\n      <td>29</td>\n      <td>29</td>\n      <td>29</td>\n      <td>29</td>\n      <td>29</td>\n      <td>29</td>\n      <td>29</td>\n      <td>29</td>\n      <td>29</td>\n      <td>29</td>\n      <td>29</td>\n      <td>29</td>\n      <td>29</td>\n      <td>29</td>\n      <td>29</td>\n      <td>29</td>\n      <td>29</td>\n      <td>29</td>\n      <td>29</td>\n      <td>29</td>\n      <td>29</td>\n      <td>29</td>\n    </tr>\n  </tbody>\n</table>\n</div>", 
                        "text/plain": "      ARSON  ASSAULT  BATTERY  BURGLARY  CONCEALED CARRY LICENSE VIOLATION  \\\nYear                                                                         \n2001     30       30       30        30                                 30   \n2002     29       29       29        29                                 29   \n2003     29       29       29        29                                 29   \n2004     29       29       29        29                                 29   \n2005     29       29       29        29                                 29   \n\n      CRIM SEXUAL ASSAULT  CRIMINAL DAMAGE  CRIMINAL TRESPASS  \\\nYear                                                            \n2001                   30               30                 30   \n2002                   29               29                 29   \n2003                   29               29                 29   \n2004                   29               29                 29   \n2005                   29               29                 29   \n\n      DECEPTIVE PRACTICE  DOMESTIC VIOLENCE  GAMBLING  HOMICIDE  \\\nYear                                                              \n2001                  30                 30        30        30   \n2002                  29                 29        29        29   \n2003                  29                 29        29        29   \n2004                  29                 29        29        29   \n2005                  29                 29        29        29   \n\n      HUMAN TRAFFICKING  INTERFERENCE WITH PUBLIC OFFICER  INTIMIDATION  \\\nYear                                                                      \n2001                 30                                30            30   \n2002                 29                                29            29   \n2003                 29                                29            29   \n2004                 29                                29            29   \n2005                 29                                29            29   \n\n      KIDNAPPING  LIQUOR LAW VIOLATION  MOTOR VEHICLE THEFT  NARCOTICS  \\\nYear                                                                     \n2001          30                    30                   30         30   \n2002          29                    29                   29         29   \n2003          29                    29                   29         29   \n2004          29                    29                   29         29   \n2005          29                    29                   29         29   \n\n      NON - CRIMINAL  NON-CRIMINAL  NON-CRIMINAL (SUBJECT SPECIFIED)  \\\nYear                                                                   \n2001              30            30                                30   \n2002              29            29                                29   \n2003              29            29                                29   \n2004              29            29                                29   \n2005              29            29                                29   \n\n      OBSCENITY  OFFENSE INVOLVING CHILDREN  OTHER NARCOTIC VIOLATION  \\\nYear                                                                    \n2001         30                          30                        30   \n2002         29                          29                        29   \n2003         29                          29                        29   \n2004         29                          29                        29   \n2005         29                          29                        29   \n\n      OTHER OFFENSE  PROSTITUTION  PUBLIC INDECENCY  PUBLIC PEACE VIOLATION  \\\nYear                                                                          \n2001             30            30                30                      30   \n2002             29            29                29                      29   \n2003             29            29                29                      29   \n2004             29            29                29                      29   \n2005             29            29                29                      29   \n\n      RITUALISM  ROBBERY  SEX OFFENSE  STALKING  THEFT  WEAPONS VIOLATION  \nYear                                                                       \n2001         30       30           30        30     30                 30  \n2002         29       29           29        29     29                 29  \n2003         29       29           29        29     29                 29  \n2004         29       29           29        29     29                 29  \n2005         29       29           29        29     29                 29  "
                    }, 
                    "output_type": "execute_result"
                }
            ], 
            "source": "# one hot encoding\ndf__onehot = pd.get_dummies(df_year_type[['Primary Type']], prefix=\"\", prefix_sep=\"\")\n\n# add neighborhood column back to dataframe\ndf__onehot['Year'] = df_year_type['Year'] \n\n# move neighborhood column to the first column\nfixed_columns = [df__onehot.columns[-1]] + list(df__onehot.columns[:-1])\ndf__onehot = df__onehot[fixed_columns]\ndf__onehot = df__onehot.groupby(['Year']).count()\ndf__onehot.head()\n"
        }, 
        {
            "execution_count": null, 
            "cell_type": "code", 
            "metadata": {}, 
            "outputs": [], 
            "source": ""
        }, 
        {
            "source": "So the dataframe consists of 6,795,046 crimes, which took place from year 20101 up to 2019. In order to reduce computational cost during the dta review, let's just work with the first 1000 incidents in this dataset.", 
            "cell_type": "markdown", 
            "metadata": {}
        }, 
        {
            "execution_count": 9, 
            "cell_type": "code", 
            "metadata": {}, 
            "outputs": [], 
            "source": "# get the first 1000 crimes in the df_incidents dataframe\nlimit = 1000\ndf_incidents = df_data_1.iloc[0:limit, :]"
        }, 
        {
            "execution_count": 10, 
            "cell_type": "code", 
            "metadata": {}, 
            "outputs": [
                {
                    "execution_count": 10, 
                    "metadata": {}, 
                    "data": {
                        "text/plain": "(1000, 30)"
                    }, 
                    "output_type": "execute_result"
                }
            ], 
            "source": "df_incidents.shape"
        }, 
        {
            "source": "Now that we reduced the data a little bit, let's visualize where these crimes took place in the city of Chicago. We will use the default style and we will initialize the zoom level to 12.", 
            "cell_type": "markdown", 
            "metadata": {}
        }, 
        {
            "execution_count": 11, 
            "cell_type": "code", 
            "metadata": {}, 
            "outputs": [
                {
                    "output_type": "stream", 
                    "name": "stdout", 
                    "text": "The geograpical coordinate of Chicago City are 41.8755616, -87.6244212.\n"
                }
            ], 
            "source": "# Chicago latitude and longitude values\n#Use geopy library to get the latitude and longitude values of Toronto City.\naddress = 'Chicago, IL, USA'\ngeolocator = Nominatim(user_agent=\"ON_explorer\")\nlocation = geolocator.geocode(address)\nlatitude = location.latitude\nlongitude = location.longitude\nprint('The geograpical coordinate of Chicago City are {}, {}.'.format(latitude, longitude))"
        }, 
        {
            "execution_count": null, 
            "cell_type": "code", 
            "metadata": {
                "scrolled": true
            }, 
            "outputs": [], 
            "source": "# create map and display it\nChicago_map = folium.Map(location=[latitude, longitude], zoom_start=12)\n\n# display the map of San Francisco\nChicago_map"
        }, 
        {
            "source": "Now let's superimpose the locations of the crimes onto the map. The way to do that in Folium is to create a feature group with its own features and style and then add it to the sanfran_map.", 
            "cell_type": "markdown", 
            "metadata": {}
        }, 
        {
            "execution_count": null, 
            "cell_type": "code", 
            "metadata": {}, 
            "outputs": [], 
            "source": "# instantiate a feature group for the incidents in the dataframe\nincidents = folium.map.FeatureGroup()\n\n# loop through the 1000 crimes and add each to the incidents feature group\nfor lat, lng, in zip(df_data.Latitude, df_data.Longitude):\n    incidents.add_child(\n        folium.features.CircleMarker(\n            [lat, lng],\n            radius=5, # define how big you want the circle markers to be\n            color='yellow',\n            fill=True,\n            fill_color='blue',\n            fill_opacity=0.6\n        )\n    )\n\n# add incidents to map\nChicago_map.add_child(incidents)"
        }, 
        {
            "execution_count": null, 
            "cell_type": "code", 
            "metadata": {}, 
            "outputs": [], 
            "source": ""
        }
    ], 
    "metadata": {
        "kernelspec": {
            "display_name": "Python 3.5", 
            "name": "python3", 
            "language": "python"
        }, 
        "language_info": {
            "mimetype": "text/x-python", 
            "nbconvert_exporter": "python", 
            "version": "3.5.5", 
            "name": "python", 
            "file_extension": ".py", 
            "pygments_lexer": "ipython3", 
            "codemirror_mode": {
                "version": 3, 
                "name": "ipython"
            }
        }
    }, 
    "nbformat": 4
}